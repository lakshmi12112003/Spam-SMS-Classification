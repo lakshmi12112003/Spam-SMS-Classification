{
  "nbformat": 4,
  "nbformat_minor": 0,
  "metadata": {
    "colab": {
      "provenance": []
    },
    "kernelspec": {
      "name": "python3",
      "display_name": "Python 3"
    },
    "language_info": {
      "name": "python"
    }
  },
  "cells": [
    {
      "cell_type": "code",
      "execution_count": 1,
      "metadata": {
        "id": "2khCpBPlflMf"
      },
      "outputs": [],
      "source": [
        "import pandas as pd\n",
        "from sklearn.model_selection import train_test_split\n",
        "from sklearn.feature_extraction.text import TfidfVectorizer\n",
        "from sklearn.naive_bayes import MultinomialNB\n",
        "from sklearn.linear_model import LogisticRegression\n",
        "from sklearn.svm import SVC\n",
        "from sklearn.metrics import classification_report, accuracy_score\n",
        "import nltk\n",
        "from nltk.corpus import stopwords\n",
        "import string\n",
        "import seaborn as sns\n",
        "import matplotlib.pyplot as plt\n"
      ]
    },
    {
      "cell_type": "code",
      "source": [
        "# Install the Kaggle package\n",
        "!pip install kaggle\n",
        "\n",
        "# Create a directory to store the Kaggle API credentials\n",
        "!mkdir -p ~/.kaggle\n",
        "\n",
        "# Copy the 'kaggle.json' file (which contains the Kaggle API key) to the directory\n",
        "# Make sure to upload the 'kaggle.json' file to the current directory\n",
        "!cp kaggle.json ~/.kaggle/\n",
        "\n",
        "# Change the permissions of the kaggle.json file to make it secure\n",
        "!chmod 600 ~/.kaggle/kaggle.json\n",
        "\n",
        "# Download the SMS Spam Collection dataset from Kaggle using the Kaggle API\n",
        "!kaggle datasets download -d uciml/sms-spam-collection-dataset\n",
        "\n",
        "# Unzip the dataset\n",
        "!unzip -o sms-spam-collection-dataset.zip"
      ],
      "metadata": {
        "colab": {
          "base_uri": "https://localhost:8080/"
        },
        "id": "SUY3bJBRfvcX",
        "outputId": "342b5baa-9373-496b-fed4-445c9521ce3e"
      },
      "execution_count": 3,
      "outputs": [
        {
          "output_type": "stream",
          "name": "stdout",
          "text": [
            "Requirement already satisfied: kaggle in /usr/local/lib/python3.10/dist-packages (1.6.17)\n",
            "Requirement already satisfied: six>=1.10 in /usr/local/lib/python3.10/dist-packages (from kaggle) (1.17.0)\n",
            "Requirement already satisfied: certifi>=2023.7.22 in /usr/local/lib/python3.10/dist-packages (from kaggle) (2024.12.14)\n",
            "Requirement already satisfied: python-dateutil in /usr/local/lib/python3.10/dist-packages (from kaggle) (2.8.2)\n",
            "Requirement already satisfied: requests in /usr/local/lib/python3.10/dist-packages (from kaggle) (2.32.3)\n",
            "Requirement already satisfied: tqdm in /usr/local/lib/python3.10/dist-packages (from kaggle) (4.67.1)\n",
            "Requirement already satisfied: python-slugify in /usr/local/lib/python3.10/dist-packages (from kaggle) (8.0.4)\n",
            "Requirement already satisfied: urllib3 in /usr/local/lib/python3.10/dist-packages (from kaggle) (2.2.3)\n",
            "Requirement already satisfied: bleach in /usr/local/lib/python3.10/dist-packages (from kaggle) (6.2.0)\n",
            "Requirement already satisfied: webencodings in /usr/local/lib/python3.10/dist-packages (from bleach->kaggle) (0.5.1)\n",
            "Requirement already satisfied: text-unidecode>=1.3 in /usr/local/lib/python3.10/dist-packages (from python-slugify->kaggle) (1.3)\n",
            "Requirement already satisfied: charset-normalizer<4,>=2 in /usr/local/lib/python3.10/dist-packages (from requests->kaggle) (3.4.0)\n",
            "Requirement already satisfied: idna<4,>=2.5 in /usr/local/lib/python3.10/dist-packages (from requests->kaggle) (3.10)\n",
            "cp: cannot stat 'kaggle.json': No such file or directory\n",
            "chmod: cannot access '/root/.kaggle/kaggle.json': No such file or directory\n",
            "Dataset URL: https://www.kaggle.com/datasets/uciml/sms-spam-collection-dataset\n",
            "License(s): unknown\n",
            "Downloading sms-spam-collection-dataset.zip to /content\n",
            "100% 211k/211k [00:00<00:00, 562kB/s]\n",
            "100% 211k/211k [00:00<00:00, 562kB/s]\n",
            "Archive:  sms-spam-collection-dataset.zip\n",
            "  inflating: spam.csv                \n"
          ]
        }
      ]
    },
    {
      "cell_type": "code",
      "source": [
        "import pandas as pd\n",
        "\n",
        "# Check contents of the extracted folder\n",
        "!ls\n",
        "\n",
        "# Load the dataset with a different encoding (ISO-8859-1 or latin1)\n",
        "sms_data_file = \"spam.csv\"  # Adjust file name if needed based on unzipped file\n",
        "df = pd.read_csv(sms_data_file, sep=\"\\t\", header=None, names=[\"Label\", \"Message\"], encoding='ISO-8859-1')\n",
        "\n",
        "# Inspect the data\n",
        "print(df.head())\n",
        "print(f\"Dataset contains {df.shape[0]} rows and {df.shape[1]} columns.\")\n",
        "\n"
      ],
      "metadata": {
        "colab": {
          "base_uri": "https://localhost:8080/"
        },
        "id": "fOzo6M_xgblh",
        "outputId": "b8cf6caa-590e-42c6-b136-15fdc85a59ee"
      },
      "execution_count": 7,
      "outputs": [
        {
          "output_type": "stream",
          "name": "stdout",
          "text": [
            "sample_data  sms-spam-collection-dataset.zip  spam.csv\n",
            "                                               Label  Message\n",
            "0                                           v1,v2,,,      NaN\n",
            "1  ham,\"Go until jurong point, crazy.. Available ...      NaN\n",
            "2               ham,Ok lar... Joking wif u oni...,,,      NaN\n",
            "3  spam,Free entry in 2 a wkly comp to win FA Cup...      NaN\n",
            "4  ham,U dun say so early hor... U c already then...      NaN\n",
            "Dataset contains 5575 rows and 2 columns.\n"
          ]
        }
      ]
    },
    {
      "cell_type": "code",
      "source": [
        "# Drop missing values\n",
        "df.dropna(inplace=True)\n"
      ],
      "metadata": {
        "id": "M5oQZhd8hNtt"
      },
      "execution_count": 11,
      "outputs": []
    },
    {
      "cell_type": "code",
      "source": [
        "print(df.shape)"
      ],
      "metadata": {
        "colab": {
          "base_uri": "https://localhost:8080/"
        },
        "id": "1UzekJYdhnEb",
        "outputId": "c4dea640-4f9e-476b-e67a-d51ce811f7ea"
      },
      "execution_count": 12,
      "outputs": [
        {
          "output_type": "stream",
          "name": "stdout",
          "text": [
            "(0, 2)\n"
          ]
        }
      ]
    },
    {
      "cell_type": "code",
      "source": [
        "# Replace missing values for 'Message' and 'Label'\n",
        "df['Message'] = df['Message'].fillna('')\n",
        "df['Label'] = df['Label'].fillna('unknown')\n"
      ],
      "metadata": {
        "id": "vsB9uCmvhvqm"
      },
      "execution_count": 13,
      "outputs": []
    },
    {
      "cell_type": "code",
      "source": [
        "# Replace missing values for 'Label' and ensure it is of type string\n",
        "df['Label'] = df['Label'].fillna('unknown').astype(str)\n"
      ],
      "metadata": {
        "id": "0SYjY2l-h8c0"
      },
      "execution_count": 14,
      "outputs": []
    },
    {
      "cell_type": "code",
      "source": [
        "import pandas as pd\n",
        "\n",
        "# Load the dataset with potential encoding issues\n",
        "sms_data_file = \"spam.csv\"  # Adjust the file name if needed\n",
        "df = pd.read_csv(sms_data_file, encoding='latin1')\n",
        "\n",
        "# Rename columns to 'Label' and 'Message' for consistency\n",
        "df.rename(columns={'v1': 'Label', 'v2': 'Message'}, inplace=True)\n",
        "\n",
        "# Check the column names and first few rows for correctness\n",
        "print(\"Columns in dataset:\", df.columns)\n",
        "print(df.head())\n",
        "\n",
        "# Check for required columns\n",
        "if 'Message' not in df.columns or 'Label' not in df.columns:\n",
        "    raise ValueError(\"The DataFrame must contain 'Message' and 'Label' columns.\")\n",
        "\n",
        "# Replace NaN values and enforce data types\n",
        "df.loc[:, 'Message'] = df['Message'].fillna('')  # Fill missing 'Message' column with empty strings\n",
        "df.loc[:, 'Label'] = df['Label'].fillna('unknown').astype(str)  # Fill missing 'Label' column and ensure it's a string\n",
        "\n",
        "# Remove rows with empty 'Message'\n",
        "df = df[df['Message'].str.strip() != '']\n",
        "\n",
        "# Handle cases where DataFrame might be empty\n",
        "if df.empty:\n",
        "    raise ValueError(\"The DataFrame is empty after preprocessing.\")\n",
        "\n",
        "# Convert 'Message' to lowercase\n",
        "df.loc[:, 'Message'] = df['Message'].str.lower()\n",
        "\n",
        "# Split data into training and testing sets\n",
        "from sklearn.model_selection import train_test_split\n",
        "X_train, X_test, y_train, y_test = train_test_split(\n",
        "    df['Message'], df['Label'], test_size=0.1, random_state=42\n",
        ")\n",
        "\n",
        "# Summary\n",
        "print(f\"Training samples: {len(X_train)}, Testing samples: {len(X_test)}\")\n"
      ],
      "metadata": {
        "colab": {
          "base_uri": "https://localhost:8080/"
        },
        "id": "PE6IX_uxiCPH",
        "outputId": "2974912a-5694-4fbc-f344-bbdd7044e2a3"
      },
      "execution_count": 23,
      "outputs": [
        {
          "output_type": "stream",
          "name": "stdout",
          "text": [
            "Columns in dataset: Index(['Label', 'Message', 'Unnamed: 2', 'Unnamed: 3', 'Unnamed: 4'], dtype='object')\n",
            "  Label                                            Message Unnamed: 2  \\\n",
            "0   ham  Go until jurong point, crazy.. Available only ...        NaN   \n",
            "1   ham                      Ok lar... Joking wif u oni...        NaN   \n",
            "2  spam  Free entry in 2 a wkly comp to win FA Cup fina...        NaN   \n",
            "3   ham  U dun say so early hor... U c already then say...        NaN   \n",
            "4   ham  Nah I don't think he goes to usf, he lives aro...        NaN   \n",
            "\n",
            "  Unnamed: 3 Unnamed: 4  \n",
            "0        NaN        NaN  \n",
            "1        NaN        NaN  \n",
            "2        NaN        NaN  \n",
            "3        NaN        NaN  \n",
            "4        NaN        NaN  \n",
            "Training samples: 5014, Testing samples: 558\n"
          ]
        }
      ]
    },
    {
      "cell_type": "code",
      "source": [
        "from sklearn.feature_extraction.text import TfidfVectorizer\n",
        "from sklearn.svm import SVC\n",
        "from sklearn.model_selection import train_test_split\n",
        "from sklearn.metrics import classification_report, accuracy_score\n",
        "\n",
        "# Load the SMS Spam dataset\n",
        "import pandas as pd\n",
        "sms_data_file = \"spam.csv\"  # Adjust the file name if needed\n",
        "df = pd.read_csv(sms_data_file, encoding='latin1')\n",
        "\n",
        "# Rename columns to 'Label' and 'Message' for consistency\n",
        "df.rename(columns={'v1': 'Label', 'v2': 'Message'}, inplace=True)\n",
        "\n",
        "# Check for required columns\n",
        "if 'Message' not in df.columns or 'Label' not in df.columns:\n",
        "    raise ValueError(\"The DataFrame must contain 'Message' and 'Label' columns.\")\n",
        "\n",
        "# Replace NaN values and enforce data types\n",
        "df.loc[:, 'Message'] = df['Message'].fillna('')  # Fill missing 'Message' column with empty strings\n",
        "df.loc[:, 'Label'] = df['Label'].fillna('unknown').astype(str)  # Fill missing 'Label' column and ensure it's a string\n",
        "\n",
        "# Remove rows with empty 'Message'\n",
        "df = df[df['Message'].str.strip() != '']\n",
        "\n",
        "# Handle cases where DataFrame might be empty\n",
        "if df.empty:\n",
        "    raise ValueError(\"The DataFrame is empty after preprocessing.\")\n",
        "\n",
        "# Convert 'Message' to lowercase\n",
        "df.loc[:, 'Message'] = df['Message'].str.lower()\n",
        "\n",
        "# Split data into training and testing sets\n",
        "X_train, X_test, y_train, y_test = train_test_split(\n",
        "    df['Message'], df['Label'], test_size=0.1, random_state=42\n",
        ")\n",
        "\n",
        "# TF-IDF Vectorization: Convert text data to numerical features\n",
        "vectorizer = TfidfVectorizer(stop_words='english', max_features=10000)\n",
        "X_train_tfidf = vectorizer.fit_transform(X_train)\n",
        "X_test_tfidf = vectorizer.transform(X_test)\n",
        "\n",
        "# Train Support Vector Machine (SVM)\n",
        "svm_classifier = SVC(kernel='linear')  # Linear kernel is often effective for text classification\n",
        "svm_classifier.fit(X_train_tfidf, y_train)\n",
        "\n",
        "# Predict and evaluate\n",
        "svm_predictions = svm_classifier.predict(X_test_tfidf)\n",
        "print(\"Support Vector Machine Classifier:\")\n",
        "print(f\"Accuracy: {accuracy_score(y_test, svm_predictions)}\")\n",
        "print(classification_report(y_test, svm_predictions))\n"
      ],
      "metadata": {
        "colab": {
          "base_uri": "https://localhost:8080/"
        },
        "id": "BMRZV3qAjrMi",
        "outputId": "5db54769-ec35-4148-e4ed-5b99be1daa8c"
      },
      "execution_count": 24,
      "outputs": [
        {
          "output_type": "stream",
          "name": "stdout",
          "text": [
            "Support Vector Machine Classifier:\n",
            "Accuracy: 0.982078853046595\n",
            "              precision    recall  f1-score   support\n",
            "\n",
            "         ham       0.98      1.00      0.99       491\n",
            "        spam       0.97      0.88      0.92        67\n",
            "\n",
            "    accuracy                           0.98       558\n",
            "   macro avg       0.98      0.94      0.96       558\n",
            "weighted avg       0.98      0.98      0.98       558\n",
            "\n"
          ]
        }
      ]
    }
  ]
}